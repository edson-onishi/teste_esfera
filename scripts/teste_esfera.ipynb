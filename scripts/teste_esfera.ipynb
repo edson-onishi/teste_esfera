{
 "cells": [
  {
   "cell_type": "code",
   "execution_count": 2,
   "metadata": {},
   "outputs": [],
   "source": [
    "import pandas_gbq #Conexão com BigQuery pelo Pandas\n",
    "from google.oauth2 import service_account #Conexão com Google Cloud.\n",
    "import csv\n",
    "import pandas as pd"
   ]
  },
  {
   "cell_type": "code",
   "execution_count": 4,
   "metadata": {},
   "outputs": [],
   "source": [
    "#Importando as credenciais para acessar o bigquery.\n",
    "SCOPES=[\n",
    "    'https://www.googleapis.com/auth/cloud-platform'\n",
    "    ]\n",
    "\n",
    "credentials = service_account.Credentials.from_service_account_file(\n",
    "    'C:/Users/Iago_/Downloads/mystudentproject-292517-b3b7900bc4c2.json'\n",
    "    )\n",
    "\n",
    "pandas_gbq.context.credentials = credentials\n",
    "pandas_gbq.context.project = \"mystudentproject-292517\""
   ]
  },
  {
   "cell_type": "code",
   "execution_count": 5,
   "metadata": {},
   "outputs": [],
   "source": [
    "#Realizando a leitura dos dados.\n",
    "df = pd.read_csv('C:/Users/Iago_/Downloads/gdvReceitasExcel.csv', encoding='ISO-8859-1', sep = ',')\n",
    "df1 = pd.read_csv('C:/Users/Iago_/Downloads/gdvDespesasExcel.csv', encoding='ISO-8859-1', sep = ',')"
   ]
  },
  {
   "cell_type": "code",
   "execution_count": null,
   "metadata": {},
   "outputs": [],
   "source": [
    "#Verificando as colunas existentes nos dataframes criados.\n",
    "print(df.columns)\n",
    "print(df1.columns)"
   ]
  },
  {
   "cell_type": "code",
   "execution_count": null,
   "metadata": {},
   "outputs": [],
   "source": [
    "#Verificando os dados no Dataframe\n",
    "df.head(100)"
   ]
  },
  {
   "cell_type": "code",
   "execution_count": null,
   "metadata": {},
   "outputs": [],
   "source": [
    "#Verificando os dados no segundo Dataframe\n",
    "df1.head(100)"
   ]
  },
  {
   "cell_type": "code",
   "execution_count": 9,
   "metadata": {},
   "outputs": [],
   "source": [
    "#Renomeando as colunas do dataframe\n",
    "df = df.rename(columns={'Fonte de Recursos': 'fonte_de_recursos', 'Receita': 'tipo_da_receita', 'Arrecadado até 02/02/2024': 'valor_arrecadado'})\n",
    "df1 = df1.rename(columns={'Fonte de Recursos': 'fonte_de_recursos', 'Despesa': 'tipo_da_despesa', 'Liquidado': 'valor_despesa'})"
   ]
  },
  {
   "cell_type": "code",
   "execution_count": 10,
   "metadata": {},
   "outputs": [],
   "source": [
    "#Removendo as colunas indesejadas no dataframe df e df1\n",
    "df = df.drop('Unnamed: 3', axis=1)\n",
    "df1 = df1.drop('Unnamed: 3', axis=1)"
   ]
  },
  {
   "cell_type": "code",
   "execution_count": 11,
   "metadata": {},
   "outputs": [],
   "source": [
<<<<<<< HEAD
    "#Transformando os dados das colunas, em string e float\n",
=======
    "#Transformando os dados das colunas, em string e float \n",
>>>>>>> 4b520cdddb26079dc1ef85107b5d5ce5a141540a
    "df['fonte_de_recursos'] = df['fonte_de_recursos'].astype(str)\n",
    "df['tipo_da_receita'] = df['tipo_da_receita'].astype(str)\n",
    "df['valor_arrecadado'] = df['valor_arrecadado'].str.replace('.', '').str.replace(',','.').astype(float)"
   ]
  },
  {
   "cell_type": "code",
   "execution_count": 12,
   "metadata": {},
   "outputs": [],
   "source": [
    "#Tratando os dados no df e df1\n",
    "df1['fonte_de_recursos'] = df1['fonte_de_recursos'].astype(str)\n",
    "df1['tipo_da_despesa'] = df1['tipo_da_despesa'].astype(str)\n",
    "df1['valor_despesa'] = df1['valor_despesa'].str.replace('.', '').str.replace(',','.').astype(float)"
   ]
  },
  {
   "cell_type": "code",
   "execution_count": 10,
   "metadata": {},
   "outputs": [],
   "source": [
    "#Realizando o envio das tabelas para o bigquery.\n",
    "pandas_gbq.to_gbq(df, 'ecommerce.receita_bronze1', project_id='mystudentproject-292517', if_exists='replace')\n",
    "pandas_gbq.to_gbq(df1, 'ecommerce.despesa_bronze1', project_id='mystudentproject-292517', if_exists='replace')"
   ]
  }
 ],
 "metadata": {
  "kernelspec": {
   "display_name": "Python 3",
   "language": "python",
   "name": "python3"
  },
  "language_info": {
   "codemirror_mode": {
    "name": "ipython",
    "version": 3
   },
   "file_extension": ".py",
   "mimetype": "text/x-python",
   "name": "python",
   "nbconvert_exporter": "python",
   "pygments_lexer": "ipython3",
   "version": "3.12.1"
  }
 },
 "nbformat": 4,
 "nbformat_minor": 2
}
